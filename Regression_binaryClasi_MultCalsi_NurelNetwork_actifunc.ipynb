{
 "cells": [
  {
   "cell_type": "code",
   "execution_count": 15,
   "id": "d1d233d9-34d2-4090-a227-fc1dd86ce8d2",
   "metadata": {},
   "outputs": [],
   "source": [
    "import pandas as pd\n",
    "import numpy as np\n",
    "from numpy import exp, array, random, dot"
   ]
  },
  {
   "cell_type": "code",
   "execution_count": 16,
   "id": "068a0345-ec9b-4c74-aef0-27619fe04dc7",
   "metadata": {},
   "outputs": [],
   "source": [
    "data = pd.read_csv(\"mnist_train.csv\")"
   ]
  },
  {
   "cell_type": "code",
   "execution_count": 17,
   "id": "2a2fe6a9-60f5-4af5-be09-cb393b982692",
   "metadata": {},
   "outputs": [
    {
     "data": {
      "text/plain": [
       "array([[ 0.52208579],\n",
       "       [-0.71146695],\n",
       "       [ 0.57806923]])"
      ]
     },
     "execution_count": 17,
     "metadata": {},
     "output_type": "execute_result"
    }
   ],
   "source": [
    "2*np.random.random((3,1))-1"
   ]
  },
  {
   "cell_type": "code",
   "execution_count": 18,
   "id": "556a4f24-cdd0-4b26-8f5b-86e8b3ea4117",
   "metadata": {},
   "outputs": [
    {
     "data": {
      "text/plain": [
       "-0.9950547536867305"
      ]
     },
     "execution_count": 18,
     "metadata": {},
     "output_type": "execute_result"
    }
   ],
   "source": [
    "np.tanh(-3)"
   ]
  },
  {
   "cell_type": "code",
   "execution_count": 19,
   "id": "d9ef9beb-1a76-45dc-b55f-644d20277ac6",
   "metadata": {},
   "outputs": [
    {
     "data": {
      "text/html": [
       "<div>\n",
       "<style scoped>\n",
       "    .dataframe tbody tr th:only-of-type {\n",
       "        vertical-align: middle;\n",
       "    }\n",
       "\n",
       "    .dataframe tbody tr th {\n",
       "        vertical-align: top;\n",
       "    }\n",
       "\n",
       "    .dataframe thead th {\n",
       "        text-align: right;\n",
       "    }\n",
       "</style>\n",
       "<table border=\"1\" class=\"dataframe\">\n",
       "  <thead>\n",
       "    <tr style=\"text-align: right;\">\n",
       "      <th></th>\n",
       "      <th>Bathrooms</th>\n",
       "      <th>Offers</th>\n",
       "      <th>Brick</th>\n",
       "      <th>Neighborhood</th>\n",
       "      <th>Bedrooms</th>\n",
       "      <th>SqFt</th>\n",
       "      <th>Price</th>\n",
       "    </tr>\n",
       "  </thead>\n",
       "  <tbody>\n",
       "    <tr>\n",
       "      <th>0</th>\n",
       "      <td>2</td>\n",
       "      <td>2</td>\n",
       "      <td>No</td>\n",
       "      <td>East</td>\n",
       "      <td>2</td>\n",
       "      <td>1790</td>\n",
       "      <td>114300</td>\n",
       "    </tr>\n",
       "    <tr>\n",
       "      <th>1</th>\n",
       "      <td>2</td>\n",
       "      <td>3</td>\n",
       "      <td>No</td>\n",
       "      <td>East</td>\n",
       "      <td>4</td>\n",
       "      <td>2030</td>\n",
       "      <td>114200</td>\n",
       "    </tr>\n",
       "    <tr>\n",
       "      <th>2</th>\n",
       "      <td>2</td>\n",
       "      <td>1</td>\n",
       "      <td>No</td>\n",
       "      <td>East</td>\n",
       "      <td>3</td>\n",
       "      <td>1740</td>\n",
       "      <td>114800</td>\n",
       "    </tr>\n",
       "    <tr>\n",
       "      <th>3</th>\n",
       "      <td>2</td>\n",
       "      <td>3</td>\n",
       "      <td>No</td>\n",
       "      <td>East</td>\n",
       "      <td>3</td>\n",
       "      <td>1980</td>\n",
       "      <td>94700</td>\n",
       "    </tr>\n",
       "    <tr>\n",
       "      <th>4</th>\n",
       "      <td>3</td>\n",
       "      <td>3</td>\n",
       "      <td>No</td>\n",
       "      <td>East</td>\n",
       "      <td>3</td>\n",
       "      <td>2130</td>\n",
       "      <td>119800</td>\n",
       "    </tr>\n",
       "  </tbody>\n",
       "</table>\n",
       "</div>"
      ],
      "text/plain": [
       "   Bathrooms  Offers Brick Neighborhood  Bedrooms  SqFt   Price\n",
       "0          2       2    No         East         2  1790  114300\n",
       "1          2       3    No         East         4  2030  114200\n",
       "2          2       1    No         East         3  1740  114800\n",
       "3          2       3    No         East         3  1980   94700\n",
       "4          3       3    No         East         3  2130  119800"
      ]
     },
     "execution_count": 19,
     "metadata": {},
     "output_type": "execute_result"
    }
   ],
   "source": [
    "df = pd.read_csv(\"house.csv\")\n",
    "df.head(5)"
   ]
  },
  {
   "cell_type": "code",
   "execution_count": 20,
   "id": "56221a49-4dfc-4acf-a52c-055d66af848c",
   "metadata": {},
   "outputs": [],
   "source": [
    "# Create dummy variables\n",
    "\n",
    "df_dummy = pd.get_dummies(df,drop_first=True)"
   ]
  },
  {
   "cell_type": "code",
   "execution_count": 21,
   "id": "ceee2d31-46ef-4c6e-a50d-6352b2233d63",
   "metadata": {},
   "outputs": [],
   "source": [
    "x= df_dummy.drop(columns=\"Price\")\n",
    "y=df_dummy['Price']"
   ]
  },
  {
   "cell_type": "code",
   "execution_count": 22,
   "id": "e273c81e-1157-43bf-8d12-924b73622438",
   "metadata": {},
   "outputs": [],
   "source": [
    "from sklearn.model_selection import train_test_split"
   ]
  },
  {
   "cell_type": "code",
   "execution_count": 23,
   "id": "9b32a004-f6ba-40b6-a47e-0b6df558b32a",
   "metadata": {},
   "outputs": [],
   "source": [
    "X_train,X_test,y_train,y_test=train_test_split(x,y,random_state=0)"
   ]
  },
  {
   "cell_type": "code",
   "execution_count": null,
   "id": "aae99d5d-26a9-4e89-89e1-62afa51fa678",
   "metadata": {},
   "outputs": [],
   "source": [
    "X_train.shape"
   ]
  },
  {
   "cell_type": "code",
   "execution_count": 25,
   "id": "9c438cf1-9d36-43ad-8887-24bda6099236",
   "metadata": {},
   "outputs": [
    {
     "name": "stderr",
     "output_type": "stream",
     "text": [
      "2024-08-02 03:20:36.082323: I tensorflow/core/util/port.cc:110] oneDNN custom operations are on. You may see slightly different numerical results due to floating-point round-off errors from different computation orders. To turn them off, set the environment variable `TF_ENABLE_ONEDNN_OPTS=0`.\n",
      "2024-08-02 03:20:36.115977: I tensorflow/core/platform/cpu_feature_guard.cc:182] This TensorFlow binary is optimized to use available CPU instructions in performance-critical operations.\n",
      "To enable the following instructions: AVX2 AVX512F AVX512_VNNI FMA, in other operations, rebuild TensorFlow with the appropriate compiler flags.\n",
      "2024-08-02 03:21:45.915526: E tensorflow/compiler/xla/stream_executor/cuda/cuda_driver.cc:268] failed call to cuInit: CUDA_ERROR_NO_DEVICE: no CUDA-capable device is detected\n"
     ]
    },
    {
     "name": "stdout",
     "output_type": "stream",
     "text": [
      "VOC-NOTICE: GPU memory for this assignment is capped at 1024MiB\n"
     ]
    }
   ],
   "source": [
    "from tensorflow.keras.models import Sequential\n",
    "from tensorflow.keras.layers import Input, Dense"
   ]
  },
  {
   "cell_type": "code",
   "execution_count": 26,
   "id": "8796f5cc-1f35-47e4-9b67-903aedff7db1",
   "metadata": {},
   "outputs": [],
   "source": [
    "# define model architecture\n",
    "model = Sequential()\n",
    "model.add(Input(shape=(7,)))\n",
    "model.add(Dense(units=20,activation=\"relu\",name=\"HiddenLayer_1\")) # Hidden Layer\n",
    "model.add(Dense(units=1,activation=\"relu\",name=\"OutputLayer\")) # Output Layer\n",
    "\n",
    "model.compile(loss=\"mse\",metrics=[\"mae\"],optimizer=\"adam\") # low value of mae is more perfect "
   ]
  },
  {
   "cell_type": "code",
   "execution_count": null,
   "id": "1b0d567a-4aac-41b9-895b-4311170f9733",
   "metadata": {},
   "outputs": [],
   "source": [
    "model.optimizer()"
   ]
  },
  {
   "cell_type": "code",
   "execution_count": 28,
   "id": "eb3f60fc-3646-421b-8b90-8db32cd39bb3",
   "metadata": {},
   "outputs": [
    {
     "name": "stdout",
     "output_type": "stream",
     "text": [
      "Model: \"sequential\"\n",
      "_________________________________________________________________\n",
      " Layer (type)                Output Shape              Param #   \n",
      "=================================================================\n",
      " HiddenLayer_1 (Dense)       (None, 20)                160       \n",
      "                                                                 \n",
      " OutputLayer (Dense)         (None, 1)                 21        \n",
      "                                                                 \n",
      "=================================================================\n",
      "Total params: 181 (724.00 Byte)\n",
      "Trainable params: 181 (724.00 Byte)\n",
      "Non-trainable params: 0 (0.00 Byte)\n",
      "_________________________________________________________________\n"
     ]
    }
   ],
   "source": [
    "model.summary()"
   ]
  },
  {
   "cell_type": "code",
   "execution_count": 29,
   "id": "ac79f75a-52c2-46ee-961f-2cca533bb672",
   "metadata": {},
   "outputs": [
    {
     "name": "stdout",
     "output_type": "stream",
     "text": [
      "You must install pydot (`pip install pydot`) and install graphviz (see instructions at https://graphviz.gitlab.io/download/) for plot_model to work.\n"
     ]
    }
   ],
   "source": [
    "from tensorflow.keras.utils import plot_model\n",
    "plot_model(model,to_file=\"model.png\",show_shapes=True,show_layer_names=True)"
   ]
  },
  {
   "cell_type": "code",
   "execution_count": 24,
   "id": "1f8a8949-ac70-44aa-8bc7-887a97160e5c",
   "metadata": {},
   "outputs": [
    {
     "name": "stdout",
     "output_type": "stream",
     "text": [
      "Defaulting to user installation because normal site-packages is not writeable\n",
      "Requirement already satisfied: pydot in /usr/local/lib/python3.10/site-packages (1.4.2)\n",
      "Requirement already satisfied: pyparsing>=2.1.4 in /usr/local/lib/python3.10/site-packages (from pydot) (3.0.9)\n",
      "\n",
      "\u001b[1m[\u001b[0m\u001b[34;49mnotice\u001b[0m\u001b[1;39;49m]\u001b[0m\u001b[39;49m A new release of pip is available: \u001b[0m\u001b[31;49m23.3\u001b[0m\u001b[39;49m -> \u001b[0m\u001b[32;49m24.1.2\u001b[0m\n",
      "\u001b[1m[\u001b[0m\u001b[34;49mnotice\u001b[0m\u001b[1;39;49m]\u001b[0m\u001b[39;49m To update, run: \u001b[0m\u001b[32;49mpip install --upgrade pip\u001b[0m\n"
     ]
    }
   ],
   "source": [
    "!pip install pydot"
   ]
  },
  {
   "cell_type": "code",
   "execution_count": 25,
   "id": "3ff6b63e-9fd3-4ab0-9088-14041773c827",
   "metadata": {},
   "outputs": [
    {
     "ename": "ModuleNotFoundError",
     "evalue": "No module named 'livelossplot'",
     "output_type": "error",
     "traceback": [
      "\u001b[0;31m---------------------------------------------------------------------------\u001b[0m",
      "\u001b[0;31mModuleNotFoundError\u001b[0m                       Traceback (most recent call last)",
      "\u001b[0;32m/tmp/ipykernel_186/28588152.py\u001b[0m in \u001b[0;36m<cell line: 1>\u001b[0;34m()\u001b[0m\n\u001b[0;32m----> 1\u001b[0;31m \u001b[0;32mfrom\u001b[0m  \u001b[0mlivelossplot\u001b[0m \u001b[0;32mimport\u001b[0m \u001b[0mPlotLossesKerasTF\u001b[0m\u001b[0;34m\u001b[0m\u001b[0;34m\u001b[0m\u001b[0m\n\u001b[0m",
      "\u001b[0;31mModuleNotFoundError\u001b[0m: No module named 'livelossplot'"
     ]
    }
   ],
   "source": [
    "from  livelossplot import PlotLossesKerasTF"
   ]
  },
  {
   "cell_type": "code",
   "execution_count": 26,
   "id": "e09b1424-5620-40c0-bd8b-15f1e766bfed",
   "metadata": {},
   "outputs": [
    {
     "name": "stdout",
     "output_type": "stream",
     "text": [
      "Defaulting to user installation because normal site-packages is not writeable\n",
      "Collecting livelossplot\n",
      "  Downloading livelossplot-0.5.5-py3-none-any.whl.metadata (8.7 kB)\n",
      "Requirement already satisfied: matplotlib in /usr/local/lib/python3.10/site-packages (from livelossplot) (3.6.3)\n",
      "Requirement already satisfied: bokeh in /usr/local/lib/python3.10/site-packages (from livelossplot) (2.4.3)\n",
      "Requirement already satisfied: Jinja2>=2.9 in /usr/local/lib/python3.10/site-packages (from bokeh->livelossplot) (3.1.2)\n",
      "Requirement already satisfied: numpy>=1.11.3 in /usr/local/lib/python3.10/site-packages (from bokeh->livelossplot) (1.23.5)\n",
      "Requirement already satisfied: packaging>=16.8 in /usr/local/lib/python3.10/site-packages (from bokeh->livelossplot) (22.0)\n",
      "Requirement already satisfied: pillow>=7.1.0 in /usr/local/lib/python3.10/site-packages (from bokeh->livelossplot) (9.1.1)\n",
      "Requirement already satisfied: PyYAML>=3.10 in /usr/local/lib/python3.10/site-packages (from bokeh->livelossplot) (6.0.1)\n",
      "Requirement already satisfied: tornado>=5.1 in /usr/local/lib/python3.10/site-packages (from bokeh->livelossplot) (6.2)\n",
      "Requirement already satisfied: typing-extensions>=3.10.0 in /usr/local/lib/python3.10/site-packages (from bokeh->livelossplot) (4.5.0)\n",
      "Requirement already satisfied: contourpy>=1.0.1 in /usr/local/lib/python3.10/site-packages (from matplotlib->livelossplot) (1.0.7)\n",
      "Requirement already satisfied: cycler>=0.10 in /usr/local/lib/python3.10/site-packages (from matplotlib->livelossplot) (0.11.0)\n",
      "Requirement already satisfied: fonttools>=4.22.0 in /usr/local/lib/python3.10/site-packages (from matplotlib->livelossplot) (4.33.3)\n",
      "Requirement already satisfied: kiwisolver>=1.0.1 in /usr/local/lib/python3.10/site-packages (from matplotlib->livelossplot) (1.4.3)\n",
      "Requirement already satisfied: pyparsing>=2.2.1 in /usr/local/lib/python3.10/site-packages (from matplotlib->livelossplot) (3.0.9)\n",
      "Requirement already satisfied: python-dateutil>=2.7 in /usr/local/lib/python3.10/site-packages (from matplotlib->livelossplot) (2.8.2)\n",
      "Requirement already satisfied: MarkupSafe>=2.0 in /usr/local/lib/python3.10/site-packages (from Jinja2>=2.9->bokeh->livelossplot) (2.1.1)\n",
      "Requirement already satisfied: six>=1.5 in /usr/local/lib/python3.10/site-packages (from python-dateutil>=2.7->matplotlib->livelossplot) (1.16.0)\n",
      "Downloading livelossplot-0.5.5-py3-none-any.whl (22 kB)\n",
      "Installing collected packages: livelossplot\n",
      "Successfully installed livelossplot-0.5.5\n",
      "\n",
      "\u001b[1m[\u001b[0m\u001b[34;49mnotice\u001b[0m\u001b[1;39;49m]\u001b[0m\u001b[39;49m A new release of pip is available: \u001b[0m\u001b[31;49m23.3\u001b[0m\u001b[39;49m -> \u001b[0m\u001b[32;49m24.1.2\u001b[0m\n",
      "\u001b[1m[\u001b[0m\u001b[34;49mnotice\u001b[0m\u001b[1;39;49m]\u001b[0m\u001b[39;49m To update, run: \u001b[0m\u001b[32;49mpip install --upgrade pip\u001b[0m\n"
     ]
    }
   ],
   "source": [
    "#!pip install livelossplot"
   ]
  },
  {
   "cell_type": "code",
   "execution_count": 27,
   "id": "52267b95-bd71-41d2-b659-0593bcb4af3a",
   "metadata": {},
   "outputs": [],
   "source": [
    "from livelossplot import PlotLossesKerasTF"
   ]
  },
  {
   "cell_type": "code",
   "execution_count": 30,
   "id": "32f17d50-4b69-4af2-836d-0ead153479b6",
   "metadata": {},
   "outputs": [
    {
     "data": {
      "image/png": "[encoded data removed]",
      "text/plain": [
       "<Figure size 864x576 with 2 Axes>"
      ]
     },
     "metadata": {
      "needs_background": "light"
     },
     "output_type": "display_data"
    },
    {
     "name": "stdout",
     "output_type": "stream",
     "text": [
      "Loss\n",
      "\ttraining         \t (min: 2198172928.000, max: 3219281152.000, cur: 2198172928.000)\n",
      "\tvalidation       \t (min: 1958799232.000, max: 2967164928.000, cur: 1958799232.000)\n",
      "mae\n",
      "\ttraining         \t (min: 41027.371, max: 51602.152, cur: 41027.371)\n",
      "\tvalidation       \t (min: 38723.141, max: 49834.590, cur: 38723.141)\n",
      "3/3 [==============================] - 1s 263ms/step - loss: 2198172928.0000 - mae: 41027.3711 - val_loss: 1958799232.0000 - val_mae: 38723.1406\n"
     ]
    },
    {
     "data": {
      "text/plain": [
       "<keras.src.callbacks.History at 0x7ff63c1ed4e0>"
      ]
     },
     "execution_count": 30,
     "metadata": {},
     "output_type": "execute_result"
    }
   ],
   "source": [
    "model.fit(X_train,y_train,epochs=50,batch_size=32,validation_data=(X_test,y_test),callbacks=[PlotLossesKerasTF()])"
   ]
  },
  {
   "cell_type": "code",
   "execution_count": 34,
   "id": "c945d84b-97f0-4d9b-a07a-b9edd15ae4ae",
   "metadata": {},
   "outputs": [
    {
     "data": {
      "image/png": "[encoded data removed]",
      "text/plain": [
       "<Figure size 864x576 with 2 Axes>"
      ]
     },
     "metadata": {
      "needs_background": "light"
     },
     "output_type": "display_data"
    },
    {
     "name": "stdout",
     "output_type": "stream",
     "text": [
      "Loss\n",
      "\ttraining         \t (min: 502122720.000, max: 504574112.000, cur: 502152672.000)\n",
      "\tvalidation       \t (min: 463696128.000, max: 466156992.000, cur: 463864384.000)\n",
      "mae\n",
      "\ttraining         \t (min: 17718.834, max: 17775.369, cur: 17718.834)\n",
      "\tvalidation       \t (min: 18469.652, max: 18514.100, cur: 18471.178)\n",
      "3/3 [==============================] - 0s 221ms/step - loss: 502152672.0000 - mae: 17718.8340 - val_loss: 463864384.0000 - val_mae: 18471.1777\n"
     ]
    },
    {
     "data": {
      "text/plain": [
       "<keras.src.callbacks.History at 0x7ff61c511030>"
      ]
     },
     "execution_count": 34,
     "metadata": {},
     "output_type": "execute_result"
    }
   ],
   "source": [
    "model.fit(X_train,y_train,epochs=500,batch_size=32,validation_data=(X_test,y_test),callbacks=[PlotLossesKerasTF()])"
   ]
  },
  {
   "cell_type": "code",
   "execution_count": 36,
   "id": "32dd3a3c-a75b-4c79-be5c-3bc865e2a156",
   "metadata": {},
   "outputs": [],
   "source": [
    "# x_train = x_train.values.astype(float)\n",
    "# x_test = x_test.values.astype(float)\n",
    "# occurs when the data being fed into model when data is incompatible datatype, int also convert to float will work\n",
    "#import tensorflow.stf"
   ]
  },
  {
   "cell_type": "code",
   "execution_count": 38,
   "id": "bc723dfb-fbb3-4f12-ad04-6eef8b481b6a",
   "metadata": {},
   "outputs": [
    {
     "name": "stdout",
     "output_type": "stream",
     "text": [
      "3/3 [==============================] - 0s 7ms/step - loss: 502099968.0000 - mae: 17721.5527\n"
     ]
    },
    {
     "data": {
      "text/plain": [
       "[502099968.0, 17721.552734375]"
      ]
     },
     "execution_count": 38,
     "metadata": {},
     "output_type": "execute_result"
    }
   ],
   "source": [
    "model.evaluate(X_train,y_train)"
   ]
  },
  {
   "cell_type": "code",
   "execution_count": 39,
   "id": "f55ddb87-11b3-46df-975d-ec1d4211f961",
   "metadata": {},
   "outputs": [
    {
     "name": "stdout",
     "output_type": "stream",
     "text": [
      "1/1 [==============================] - 0s 22ms/step - loss: 463864384.0000 - mae: 18471.1777\n"
     ]
    },
    {
     "data": {
      "text/plain": [
       "[463864384.0, 18471.177734375]"
      ]
     },
     "execution_count": 39,
     "metadata": {},
     "output_type": "execute_result"
    }
   ],
   "source": [
    "model.evaluate(X_test,y_test)"
   ]
  },
  {
   "cell_type": "code",
   "execution_count": 40,
   "id": "66790e69-9ea2-4a4a-a097-abe58b345dca",
   "metadata": {},
   "outputs": [
    {
     "data": {
      "text/plain": [
       "22407.587286452774"
      ]
     },
     "execution_count": 40,
     "metadata": {},
     "output_type": "execute_result"
    }
   ],
   "source": [
    "import numpy as np\n",
    "np.sqrt(502099968.0)"
   ]
  },
  {
   "cell_type": "code",
   "execution_count": 41,
   "id": "cdeccafa-d0cb-44ac-bc97-4f5b3be78a96",
   "metadata": {},
   "outputs": [
    {
     "data": {
      "text/plain": [
       "76     129800\n",
       "43     154000\n",
       "15     145800\n",
       "93     157100\n",
       "95     152500\n",
       "        ...  \n",
       "67     151900\n",
       "64     130300\n",
       "117    117800\n",
       "47      90300\n",
       "44     166500\n",
       "Name: Price, Length: 96, dtype: int64"
      ]
     },
     "execution_count": 41,
     "metadata": {},
     "output_type": "execute_result"
    }
   ],
   "source": [
    "y_train"
   ]
  },
  {
   "cell_type": "code",
   "execution_count": 42,
   "id": "f575d929-8b85-4e57-bccc-86f98e86998b",
   "metadata": {},
   "outputs": [
    {
     "data": {
      "text/plain": [
       "107392.41271354722"
      ]
     },
     "execution_count": 42,
     "metadata": {},
     "output_type": "execute_result"
    }
   ],
   "source": [
    "129800-22407.587286452774"
   ]
  },
  {
   "cell_type": "code",
   "execution_count": 43,
   "id": "350dc0ed-ec9c-435d-8ac9-fbd8277a6ae2",
   "metadata": {},
   "outputs": [],
   "source": [
    "# Multiclass classification\n"
   ]
  },
  {
   "cell_type": "code",
   "execution_count": 45,
   "id": "c38150b7-4b0e-4a5c-8146-f540e815cda8",
   "metadata": {},
   "outputs": [],
   "source": [
    "import os\n",
    "os.environ['TF_CPP_MIN_LOG_LEVEL'] = '2'"
   ]
  },
  {
   "cell_type": "code",
   "execution_count": 46,
   "id": "478ff1d5-cb40-497a-adfe-d650df2255f0",
   "metadata": {},
   "outputs": [
    {
     "name": "stdout",
     "output_type": "stream",
     "text": [
      "TensorFlow version: 2.13.1\n"
     ]
    }
   ],
   "source": [
    "import tensorflow as tf\n",
    "print(\"TensorFlow version:\", tf.__version__)"
   ]
  },
  {
   "cell_type": "code",
   "execution_count": 50,
   "id": "f09fe2cd-3f61-4b64-b0cb-dd23d5333637",
   "metadata": {},
   "outputs": [],
   "source": [
    "mnist = tf.keras.datasets.mnist"
   ]
  },
  {
   "cell_type": "code",
   "execution_count": 51,
   "id": "d5f7b9fb-1c04-482c-a516-6d2614894392",
   "metadata": {},
   "outputs": [
    {
     "name": "stdout",
     "output_type": "stream",
     "text": [
      "Downloading data from https://storage.googleapis.com/tensorflow/tf-keras-datasets/mnist.npz\n",
      "11490434/11490434 [==============================] - 0s 0us/step\n"
     ]
    }
   ],
   "source": [
    "(X_train,y_train),(X_test,y_test) = mnist.load_data()"
   ]
  },
  {
   "cell_type": "code",
   "execution_count": 71,
   "id": "0ee792f5-b0be-4627-9ac8-ae745795deed",
   "metadata": {},
   "outputs": [
    {
     "data": {
      "text/plain": [
       "(60000, 28, 28)"
      ]
     },
     "execution_count": 71,
     "metadata": {},
     "output_type": "execute_result"
    }
   ],
   "source": [
    "X_train.shape"
   ]
  },
  {
   "cell_type": "code",
   "execution_count": 53,
   "id": "79798c44-769e-4fcc-a83a-152c93f24d1a",
   "metadata": {},
   "outputs": [],
   "source": [
    "#normalize data\n",
    "# pixel value take max of 255\n",
    "# x - max(x) / max(x) - min(x) = x-0/255-0 = x/255.0\n",
    "X_train,X_test = X_train/255.0,X_test/255.0"
   ]
  },
  {
   "cell_type": "code",
   "execution_count": 55,
   "id": "000f17f8-2393-4713-adb0-f00667a0335d",
   "metadata": {},
   "outputs": [],
   "source": [
    "model = tf.keras.models.Sequential()\n",
    "model.add(tf.keras.layers.Flatten(input_shape=(28,28)))\n",
    "model.add(tf.keras.layers.Dense(128,activation='relu'))\n",
    "model.add(tf.keras.layers.Dense(10,activation='softmax'))\n",
    "\n",
    "model.compile(loss=\"categorical_crossentropy\",optimizer=\"adam\",metrics=['accuracy']) # accuracy for classification"
   ]
  },
  {
   "cell_type": "code",
   "execution_count": null,
   "id": "98479f12-5c56-47ad-9349-97228ed14658",
   "metadata": {},
   "outputs": [],
   "source": [
    "# Multi-classification problem and using categorical_crossentropy\n",
    "#               Sam| App\n",
    "#                1 | 0\n",
    "#                0 | 1\n",
    "#output |\n",
    "#  Sam 0|\n",
    "#  App 0|  "
   ]
  },
  {
   "cell_type": "code",
   "execution_count": 58,
   "id": "243f72e2-2242-4c71-9d82-cf48e709f6fd",
   "metadata": {},
   "outputs": [
    {
     "data": {
      "text/plain": [
       "array([5, 0, 4, ..., 5, 6, 8], dtype=uint8)"
      ]
     },
     "execution_count": 58,
     "metadata": {},
     "output_type": "execute_result"
    }
   ],
   "source": [
    "y_train"
   ]
  },
  {
   "cell_type": "code",
   "execution_count": 59,
   "id": "0aaa3209-7fd5-4977-84c1-3d4d47c287ec",
   "metadata": {},
   "outputs": [],
   "source": [
    "y_train_encoded = tf.keras.utils.to_categorical(y_train)\n",
    "y_test_encoded = tf.keras.utils.to_categorical(y_test)"
   ]
  },
  {
   "cell_type": "code",
   "execution_count": 60,
   "id": "438bc7d4-55b7-4bad-b8e5-58e2915ddb2a",
   "metadata": {},
   "outputs": [],
   "source": [
    "# train the model\n",
    "from livelossplot import PlotLossesKerasTF"
   ]
  },
  {
   "cell_type": "code",
   "execution_count": 61,
   "id": "d03279f8-62c7-4a5b-a890-146f9a6c64d2",
   "metadata": {},
   "outputs": [
    {
     "data": {
      "image/png": "[encoded data removed]",
      "text/plain": [
       "<Figure size 864x576 with 2 Axes>"
      ]
     },
     "metadata": {
      "needs_background": "light"
     },
     "output_type": "display_data"
    },
    {
     "name": "stdout",
     "output_type": "stream",
     "text": [
      "accuracy\n",
      "\ttraining         \t (min:    0.915, max:    0.999, cur:    0.998)\n",
      "\tvalidation       \t (min:    0.956, max:    0.980, cur:    0.980)\n",
      "Loss\n",
      "\ttraining         \t (min:    0.005, max:    0.299, cur:    0.007)\n",
      "\tvalidation       \t (min:    0.069, max:    0.158, cur:    0.084)\n",
      "938/938 [==============================] - 3s 3ms/step - loss: 0.0065 - accuracy: 0.9981 - val_loss: 0.0839 - val_accuracy: 0.9796\n"
     ]
    },
    {
     "data": {
      "text/plain": [
       "<keras.src.callbacks.History at 0x7ff61c1322f0>"
      ]
     },
     "execution_count": 61,
     "metadata": {},
     "output_type": "execute_result"
    }
   ],
   "source": [
    "model.fit(X_train,y_train_encoded,epochs=20,batch_size=64,validation_data=(X_test,y_test_encoded),callbacks=[PlotLossesKerasTF()])"
   ]
  },
  {
   "cell_type": "code",
   "execution_count": 62,
   "id": "23779933-d0f9-4eef-9c77-5d6407be1af1",
   "metadata": {},
   "outputs": [
    {
     "name": "stdout",
     "output_type": "stream",
     "text": [
      "1875/1875 [==============================] - 2s 1ms/step\n"
     ]
    },
    {
     "data": {
      "text/plain": [
       "array([[1.47807466e-20, 8.94681032e-19, 3.31613102e-15, ...,\n",
       "        2.52240844e-19, 6.74210619e-19, 1.24840493e-14],\n",
       "       [1.00000000e+00, 5.86485149e-17, 2.46545842e-08, ...,\n",
       "        8.89350118e-17, 2.13871828e-18, 1.51812243e-12],\n",
       "       [1.35844731e-08, 3.43207830e-06, 1.02356289e-05, ...,\n",
       "        2.15944127e-07, 7.02522666e-05, 1.16817225e-02],\n",
       "       ...,\n",
       "       [1.18163389e-20, 3.75776737e-17, 9.49494392e-22, ...,\n",
       "        3.35614801e-20, 6.70985576e-12, 5.12092591e-11],\n",
       "       [2.12283702e-09, 2.94744849e-12, 2.07577990e-08, ...,\n",
       "        1.44021774e-14, 8.46071965e-13, 2.04676194e-15],\n",
       "       [4.75139372e-10, 2.15500361e-14, 2.01941965e-08, ...,\n",
       "        1.87520433e-11, 1.00000000e+00, 5.53427748e-10]], dtype=float32)"
      ]
     },
     "execution_count": 62,
     "metadata": {},
     "output_type": "execute_result"
    }
   ],
   "source": [
    "# Prediction\n",
    "predictions = model.predict(X_train)\n",
    "predictions"
   ]
  },
  {
   "cell_type": "code",
   "execution_count": 63,
   "id": "ec695479-ef0f-4542-86c0-61e7a7d9786f",
   "metadata": {},
   "outputs": [
    {
     "data": {
      "text/html": [
       "<div>\n",
       "<style scoped>\n",
       "    .dataframe tbody tr th:only-of-type {\n",
       "        vertical-align: middle;\n",
       "    }\n",
       "\n",
       "    .dataframe tbody tr th {\n",
       "        vertical-align: top;\n",
       "    }\n",
       "\n",
       "    .dataframe thead th {\n",
       "        text-align: right;\n",
       "    }\n",
       "</style>\n",
       "<table border=\"1\" class=\"dataframe\">\n",
       "  <thead>\n",
       "    <tr style=\"text-align: right;\">\n",
       "      <th></th>\n",
       "      <th>0</th>\n",
       "      <th>1</th>\n",
       "      <th>2</th>\n",
       "      <th>3</th>\n",
       "      <th>4</th>\n",
       "      <th>5</th>\n",
       "      <th>6</th>\n",
       "      <th>7</th>\n",
       "      <th>8</th>\n",
       "      <th>9</th>\n",
       "    </tr>\n",
       "  </thead>\n",
       "  <tbody>\n",
       "    <tr>\n",
       "      <th>0</th>\n",
       "      <td>1.478075e-20</td>\n",
       "      <td>8.946810e-19</td>\n",
       "      <td>3.316131e-15</td>\n",
       "      <td>4.322669e-06</td>\n",
       "      <td>4.249455e-33</td>\n",
       "      <td>9.999957e-01</td>\n",
       "      <td>1.805284e-21</td>\n",
       "      <td>2.522408e-19</td>\n",
       "      <td>6.742106e-19</td>\n",
       "      <td>1.248405e-14</td>\n",
       "    </tr>\n",
       "    <tr>\n",
       "      <th>1</th>\n",
       "      <td>1.000000e+00</td>\n",
       "      <td>5.864851e-17</td>\n",
       "      <td>2.465458e-08</td>\n",
       "      <td>2.195186e-14</td>\n",
       "      <td>1.628620e-20</td>\n",
       "      <td>1.738885e-18</td>\n",
       "      <td>5.321550e-15</td>\n",
       "      <td>8.893501e-17</td>\n",
       "      <td>2.138718e-18</td>\n",
       "      <td>1.518122e-12</td>\n",
       "    </tr>\n",
       "    <tr>\n",
       "      <th>2</th>\n",
       "      <td>1.358447e-08</td>\n",
       "      <td>3.432078e-06</td>\n",
       "      <td>1.023563e-05</td>\n",
       "      <td>1.665141e-08</td>\n",
       "      <td>9.882342e-01</td>\n",
       "      <td>2.328884e-09</td>\n",
       "      <td>2.739051e-08</td>\n",
       "      <td>2.159441e-07</td>\n",
       "      <td>7.025227e-05</td>\n",
       "      <td>1.168172e-02</td>\n",
       "    </tr>\n",
       "    <tr>\n",
       "      <th>3</th>\n",
       "      <td>1.239126e-12</td>\n",
       "      <td>9.999994e-01</td>\n",
       "      <td>1.924706e-07</td>\n",
       "      <td>1.666578e-11</td>\n",
       "      <td>1.180334e-08</td>\n",
       "      <td>7.575952e-13</td>\n",
       "      <td>2.934552e-11</td>\n",
       "      <td>2.350435e-07</td>\n",
       "      <td>1.118243e-07</td>\n",
       "      <td>1.391774e-12</td>\n",
       "    </tr>\n",
       "    <tr>\n",
       "      <th>4</th>\n",
       "      <td>3.914575e-17</td>\n",
       "      <td>6.416430e-11</td>\n",
       "      <td>2.250246e-14</td>\n",
       "      <td>5.771889e-09</td>\n",
       "      <td>1.753459e-07</td>\n",
       "      <td>2.776598e-12</td>\n",
       "      <td>7.911223e-16</td>\n",
       "      <td>2.755358e-08</td>\n",
       "      <td>4.711393e-08</td>\n",
       "      <td>9.999998e-01</td>\n",
       "    </tr>\n",
       "    <tr>\n",
       "      <th>...</th>\n",
       "      <td>...</td>\n",
       "      <td>...</td>\n",
       "      <td>...</td>\n",
       "      <td>...</td>\n",
       "      <td>...</td>\n",
       "      <td>...</td>\n",
       "      <td>...</td>\n",
       "      <td>...</td>\n",
       "      <td>...</td>\n",
       "      <td>...</td>\n",
       "    </tr>\n",
       "    <tr>\n",
       "      <th>59995</th>\n",
       "      <td>1.334296e-13</td>\n",
       "      <td>3.355747e-11</td>\n",
       "      <td>6.548939e-11</td>\n",
       "      <td>9.848025e-09</td>\n",
       "      <td>7.639306e-14</td>\n",
       "      <td>1.662961e-12</td>\n",
       "      <td>5.792551e-15</td>\n",
       "      <td>1.783259e-13</td>\n",
       "      <td>1.000000e+00</td>\n",
       "      <td>1.146738e-11</td>\n",
       "    </tr>\n",
       "    <tr>\n",
       "      <th>59996</th>\n",
       "      <td>2.150858e-16</td>\n",
       "      <td>5.414237e-15</td>\n",
       "      <td>7.430586e-14</td>\n",
       "      <td>9.998610e-01</td>\n",
       "      <td>1.740942e-23</td>\n",
       "      <td>3.640534e-10</td>\n",
       "      <td>6.513548e-23</td>\n",
       "      <td>9.402342e-20</td>\n",
       "      <td>9.168534e-06</td>\n",
       "      <td>1.297427e-04</td>\n",
       "    </tr>\n",
       "    <tr>\n",
       "      <th>59997</th>\n",
       "      <td>1.181634e-20</td>\n",
       "      <td>3.757767e-17</td>\n",
       "      <td>9.494944e-22</td>\n",
       "      <td>5.944693e-12</td>\n",
       "      <td>5.505017e-19</td>\n",
       "      <td>1.000000e+00</td>\n",
       "      <td>1.694580e-16</td>\n",
       "      <td>3.356148e-20</td>\n",
       "      <td>6.709856e-12</td>\n",
       "      <td>5.120926e-11</td>\n",
       "    </tr>\n",
       "    <tr>\n",
       "      <th>59998</th>\n",
       "      <td>2.122837e-09</td>\n",
       "      <td>2.947448e-12</td>\n",
       "      <td>2.075780e-08</td>\n",
       "      <td>4.319327e-13</td>\n",
       "      <td>2.487671e-10</td>\n",
       "      <td>1.266639e-10</td>\n",
       "      <td>1.000000e+00</td>\n",
       "      <td>1.440218e-14</td>\n",
       "      <td>8.460720e-13</td>\n",
       "      <td>2.046762e-15</td>\n",
       "    </tr>\n",
       "    <tr>\n",
       "      <th>59999</th>\n",
       "      <td>4.751394e-10</td>\n",
       "      <td>2.155004e-14</td>\n",
       "      <td>2.019420e-08</td>\n",
       "      <td>1.882096e-14</td>\n",
       "      <td>2.135923e-13</td>\n",
       "      <td>1.353693e-09</td>\n",
       "      <td>2.762933e-15</td>\n",
       "      <td>1.875204e-11</td>\n",
       "      <td>1.000000e+00</td>\n",
       "      <td>5.534277e-10</td>\n",
       "    </tr>\n",
       "  </tbody>\n",
       "</table>\n",
       "<p>60000 rows × 10 columns</p>\n",
       "</div>"
      ],
      "text/plain": [
       "                  0             1             2             3             4  \\\n",
       "0      1.478075e-20  8.946810e-19  3.316131e-15  4.322669e-06  4.249455e-33   \n",
       "1      1.000000e+00  5.864851e-17  2.465458e-08  2.195186e-14  1.628620e-20   \n",
       "2      1.358447e-08  3.432078e-06  1.023563e-05  1.665141e-08  9.882342e-01   \n",
       "3      1.239126e-12  9.999994e-01  1.924706e-07  1.666578e-11  1.180334e-08   \n",
       "4      3.914575e-17  6.416430e-11  2.250246e-14  5.771889e-09  1.753459e-07   \n",
       "...             ...           ...           ...           ...           ...   \n",
       "59995  1.334296e-13  3.355747e-11  6.548939e-11  9.848025e-09  7.639306e-14   \n",
       "59996  2.150858e-16  5.414237e-15  7.430586e-14  9.998610e-01  1.740942e-23   \n",
       "59997  1.181634e-20  3.757767e-17  9.494944e-22  5.944693e-12  5.505017e-19   \n",
       "59998  2.122837e-09  2.947448e-12  2.075780e-08  4.319327e-13  2.487671e-10   \n",
       "59999  4.751394e-10  2.155004e-14  2.019420e-08  1.882096e-14  2.135923e-13   \n",
       "\n",
       "                  5             6             7             8             9  \n",
       "0      9.999957e-01  1.805284e-21  2.522408e-19  6.742106e-19  1.248405e-14  \n",
       "1      1.738885e-18  5.321550e-15  8.893501e-17  2.138718e-18  1.518122e-12  \n",
       "2      2.328884e-09  2.739051e-08  2.159441e-07  7.025227e-05  1.168172e-02  \n",
       "3      7.575952e-13  2.934552e-11  2.350435e-07  1.118243e-07  1.391774e-12  \n",
       "4      2.776598e-12  7.911223e-16  2.755358e-08  4.711393e-08  9.999998e-01  \n",
       "...             ...           ...           ...           ...           ...  \n",
       "59995  1.662961e-12  5.792551e-15  1.783259e-13  1.000000e+00  1.146738e-11  \n",
       "59996  3.640534e-10  6.513548e-23  9.402342e-20  9.168534e-06  1.297427e-04  \n",
       "59997  1.000000e+00  1.694580e-16  3.356148e-20  6.709856e-12  5.120926e-11  \n",
       "59998  1.266639e-10  1.000000e+00  1.440218e-14  8.460720e-13  2.046762e-15  \n",
       "59999  1.353693e-09  2.762933e-15  1.875204e-11  1.000000e+00  5.534277e-10  \n",
       "\n",
       "[60000 rows x 10 columns]"
      ]
     },
     "execution_count": 63,
     "metadata": {},
     "output_type": "execute_result"
    }
   ],
   "source": [
    "import pandas as pd\n",
    "pd.DataFrame(predictions)"
   ]
  },
  {
   "cell_type": "code",
   "execution_count": 64,
   "id": "f4b39261-1ea1-4c34-a9a8-6577b1b3372d",
   "metadata": {},
   "outputs": [
    {
     "data": {
      "text/plain": [
       "array([5, 0, 4, ..., 5, 6, 8])"
      ]
     },
     "execution_count": 64,
     "metadata": {},
     "output_type": "execute_result"
    }
   ],
   "source": [
    "predictions.argmax(axis=1)"
   ]
  },
  {
   "cell_type": "code",
   "execution_count": 65,
   "id": "0808215a-3458-485d-96cd-251b46aa7c55",
   "metadata": {},
   "outputs": [],
   "source": [
    "y_train_pred = predictions.argmax(axis=1)"
   ]
  },
  {
   "cell_type": "code",
   "execution_count": 66,
   "id": "390c0ac7-1fed-4525-9268-268bde79b9ed",
   "metadata": {},
   "outputs": [
    {
     "data": {
      "text/html": [
       "<div>\n",
       "<style scoped>\n",
       "    .dataframe tbody tr th:only-of-type {\n",
       "        vertical-align: middle;\n",
       "    }\n",
       "\n",
       "    .dataframe tbody tr th {\n",
       "        vertical-align: top;\n",
       "    }\n",
       "\n",
       "    .dataframe thead th {\n",
       "        text-align: right;\n",
       "    }\n",
       "</style>\n",
       "<table border=\"1\" class=\"dataframe\">\n",
       "  <thead>\n",
       "    <tr style=\"text-align: right;\">\n",
       "      <th>col_0</th>\n",
       "      <th>0</th>\n",
       "      <th>1</th>\n",
       "      <th>2</th>\n",
       "      <th>3</th>\n",
       "      <th>4</th>\n",
       "      <th>5</th>\n",
       "      <th>6</th>\n",
       "      <th>7</th>\n",
       "      <th>8</th>\n",
       "      <th>9</th>\n",
       "    </tr>\n",
       "    <tr>\n",
       "      <th>row_0</th>\n",
       "      <th></th>\n",
       "      <th></th>\n",
       "      <th></th>\n",
       "      <th></th>\n",
       "      <th></th>\n",
       "      <th></th>\n",
       "      <th></th>\n",
       "      <th></th>\n",
       "      <th></th>\n",
       "      <th></th>\n",
       "    </tr>\n",
       "  </thead>\n",
       "  <tbody>\n",
       "    <tr>\n",
       "      <th>0</th>\n",
       "      <td>5919</td>\n",
       "      <td>0</td>\n",
       "      <td>0</td>\n",
       "      <td>0</td>\n",
       "      <td>0</td>\n",
       "      <td>0</td>\n",
       "      <td>0</td>\n",
       "      <td>0</td>\n",
       "      <td>1</td>\n",
       "      <td>3</td>\n",
       "    </tr>\n",
       "    <tr>\n",
       "      <th>1</th>\n",
       "      <td>0</td>\n",
       "      <td>6741</td>\n",
       "      <td>0</td>\n",
       "      <td>0</td>\n",
       "      <td>0</td>\n",
       "      <td>0</td>\n",
       "      <td>0</td>\n",
       "      <td>0</td>\n",
       "      <td>1</td>\n",
       "      <td>0</td>\n",
       "    </tr>\n",
       "    <tr>\n",
       "      <th>2</th>\n",
       "      <td>0</td>\n",
       "      <td>1</td>\n",
       "      <td>5954</td>\n",
       "      <td>0</td>\n",
       "      <td>0</td>\n",
       "      <td>0</td>\n",
       "      <td>0</td>\n",
       "      <td>0</td>\n",
       "      <td>1</td>\n",
       "      <td>2</td>\n",
       "    </tr>\n",
       "    <tr>\n",
       "      <th>3</th>\n",
       "      <td>1</td>\n",
       "      <td>1</td>\n",
       "      <td>3</td>\n",
       "      <td>6126</td>\n",
       "      <td>0</td>\n",
       "      <td>0</td>\n",
       "      <td>0</td>\n",
       "      <td>0</td>\n",
       "      <td>0</td>\n",
       "      <td>0</td>\n",
       "    </tr>\n",
       "    <tr>\n",
       "      <th>4</th>\n",
       "      <td>0</td>\n",
       "      <td>0</td>\n",
       "      <td>1</td>\n",
       "      <td>0</td>\n",
       "      <td>5758</td>\n",
       "      <td>0</td>\n",
       "      <td>0</td>\n",
       "      <td>0</td>\n",
       "      <td>1</td>\n",
       "      <td>82</td>\n",
       "    </tr>\n",
       "    <tr>\n",
       "      <th>5</th>\n",
       "      <td>0</td>\n",
       "      <td>0</td>\n",
       "      <td>0</td>\n",
       "      <td>0</td>\n",
       "      <td>0</td>\n",
       "      <td>5419</td>\n",
       "      <td>0</td>\n",
       "      <td>0</td>\n",
       "      <td>2</td>\n",
       "      <td>0</td>\n",
       "    </tr>\n",
       "    <tr>\n",
       "      <th>6</th>\n",
       "      <td>0</td>\n",
       "      <td>0</td>\n",
       "      <td>0</td>\n",
       "      <td>0</td>\n",
       "      <td>0</td>\n",
       "      <td>0</td>\n",
       "      <td>5918</td>\n",
       "      <td>0</td>\n",
       "      <td>0</td>\n",
       "      <td>0</td>\n",
       "    </tr>\n",
       "    <tr>\n",
       "      <th>7</th>\n",
       "      <td>1</td>\n",
       "      <td>1</td>\n",
       "      <td>0</td>\n",
       "      <td>0</td>\n",
       "      <td>0</td>\n",
       "      <td>0</td>\n",
       "      <td>0</td>\n",
       "      <td>6262</td>\n",
       "      <td>0</td>\n",
       "      <td>1</td>\n",
       "    </tr>\n",
       "    <tr>\n",
       "      <th>8</th>\n",
       "      <td>0</td>\n",
       "      <td>3</td>\n",
       "      <td>0</td>\n",
       "      <td>0</td>\n",
       "      <td>0</td>\n",
       "      <td>0</td>\n",
       "      <td>1</td>\n",
       "      <td>0</td>\n",
       "      <td>5846</td>\n",
       "      <td>1</td>\n",
       "    </tr>\n",
       "    <tr>\n",
       "      <th>9</th>\n",
       "      <td>0</td>\n",
       "      <td>0</td>\n",
       "      <td>0</td>\n",
       "      <td>0</td>\n",
       "      <td>0</td>\n",
       "      <td>0</td>\n",
       "      <td>0</td>\n",
       "      <td>0</td>\n",
       "      <td>0</td>\n",
       "      <td>5949</td>\n",
       "    </tr>\n",
       "  </tbody>\n",
       "</table>\n",
       "</div>"
      ],
      "text/plain": [
       "col_0     0     1     2     3     4     5     6     7     8     9\n",
       "row_0                                                            \n",
       "0      5919     0     0     0     0     0     0     0     1     3\n",
       "1         0  6741     0     0     0     0     0     0     1     0\n",
       "2         0     1  5954     0     0     0     0     0     1     2\n",
       "3         1     1     3  6126     0     0     0     0     0     0\n",
       "4         0     0     1     0  5758     0     0     0     1    82\n",
       "5         0     0     0     0     0  5419     0     0     2     0\n",
       "6         0     0     0     0     0     0  5918     0     0     0\n",
       "7         1     1     0     0     0     0     0  6262     0     1\n",
       "8         0     3     0     0     0     0     1     0  5846     1\n",
       "9         0     0     0     0     0     0     0     0     0  5949"
      ]
     },
     "execution_count": 66,
     "metadata": {},
     "output_type": "execute_result"
    }
   ],
   "source": [
    "pd.crosstab(y_train,y_train_pred)"
   ]
  },
  {
   "cell_type": "code",
   "execution_count": 68,
   "id": "765db6a1-3456-4225-bd66-a5a39d206f1b",
   "metadata": {},
   "outputs": [
    {
     "name": "stdout",
     "output_type": "stream",
     "text": [
      "313/313 [==============================] - 0s 935us/step\n"
     ]
    },
    {
     "data": {
      "text/html": [
       "<div>\n",
       "<style scoped>\n",
       "    .dataframe tbody tr th:only-of-type {\n",
       "        vertical-align: middle;\n",
       "    }\n",
       "\n",
       "    .dataframe tbody tr th {\n",
       "        vertical-align: top;\n",
       "    }\n",
       "\n",
       "    .dataframe thead th {\n",
       "        text-align: right;\n",
       "    }\n",
       "</style>\n",
       "<table border=\"1\" class=\"dataframe\">\n",
       "  <thead>\n",
       "    <tr style=\"text-align: right;\">\n",
       "      <th>col_0</th>\n",
       "      <th>0</th>\n",
       "      <th>1</th>\n",
       "      <th>2</th>\n",
       "      <th>3</th>\n",
       "      <th>4</th>\n",
       "      <th>5</th>\n",
       "      <th>6</th>\n",
       "      <th>7</th>\n",
       "      <th>8</th>\n",
       "      <th>9</th>\n",
       "    </tr>\n",
       "    <tr>\n",
       "      <th>row_0</th>\n",
       "      <th></th>\n",
       "      <th></th>\n",
       "      <th></th>\n",
       "      <th></th>\n",
       "      <th></th>\n",
       "      <th></th>\n",
       "      <th></th>\n",
       "      <th></th>\n",
       "      <th></th>\n",
       "      <th></th>\n",
       "    </tr>\n",
       "  </thead>\n",
       "  <tbody>\n",
       "    <tr>\n",
       "      <th>0</th>\n",
       "      <td>969</td>\n",
       "      <td>1</td>\n",
       "      <td>0</td>\n",
       "      <td>1</td>\n",
       "      <td>1</td>\n",
       "      <td>0</td>\n",
       "      <td>3</td>\n",
       "      <td>1</td>\n",
       "      <td>3</td>\n",
       "      <td>1</td>\n",
       "    </tr>\n",
       "    <tr>\n",
       "      <th>1</th>\n",
       "      <td>0</td>\n",
       "      <td>1125</td>\n",
       "      <td>4</td>\n",
       "      <td>0</td>\n",
       "      <td>0</td>\n",
       "      <td>1</td>\n",
       "      <td>2</td>\n",
       "      <td>1</td>\n",
       "      <td>2</td>\n",
       "      <td>0</td>\n",
       "    </tr>\n",
       "    <tr>\n",
       "      <th>2</th>\n",
       "      <td>1</td>\n",
       "      <td>2</td>\n",
       "      <td>1013</td>\n",
       "      <td>2</td>\n",
       "      <td>2</td>\n",
       "      <td>0</td>\n",
       "      <td>2</td>\n",
       "      <td>3</td>\n",
       "      <td>6</td>\n",
       "      <td>1</td>\n",
       "    </tr>\n",
       "    <tr>\n",
       "      <th>3</th>\n",
       "      <td>0</td>\n",
       "      <td>0</td>\n",
       "      <td>6</td>\n",
       "      <td>984</td>\n",
       "      <td>0</td>\n",
       "      <td>7</td>\n",
       "      <td>1</td>\n",
       "      <td>2</td>\n",
       "      <td>6</td>\n",
       "      <td>4</td>\n",
       "    </tr>\n",
       "    <tr>\n",
       "      <th>4</th>\n",
       "      <td>0</td>\n",
       "      <td>0</td>\n",
       "      <td>4</td>\n",
       "      <td>0</td>\n",
       "      <td>946</td>\n",
       "      <td>0</td>\n",
       "      <td>5</td>\n",
       "      <td>2</td>\n",
       "      <td>0</td>\n",
       "      <td>25</td>\n",
       "    </tr>\n",
       "    <tr>\n",
       "      <th>5</th>\n",
       "      <td>2</td>\n",
       "      <td>0</td>\n",
       "      <td>0</td>\n",
       "      <td>6</td>\n",
       "      <td>2</td>\n",
       "      <td>869</td>\n",
       "      <td>4</td>\n",
       "      <td>2</td>\n",
       "      <td>6</td>\n",
       "      <td>1</td>\n",
       "    </tr>\n",
       "    <tr>\n",
       "      <th>6</th>\n",
       "      <td>2</td>\n",
       "      <td>3</td>\n",
       "      <td>1</td>\n",
       "      <td>1</td>\n",
       "      <td>3</td>\n",
       "      <td>3</td>\n",
       "      <td>941</td>\n",
       "      <td>0</td>\n",
       "      <td>4</td>\n",
       "      <td>0</td>\n",
       "    </tr>\n",
       "    <tr>\n",
       "      <th>7</th>\n",
       "      <td>1</td>\n",
       "      <td>4</td>\n",
       "      <td>8</td>\n",
       "      <td>0</td>\n",
       "      <td>0</td>\n",
       "      <td>0</td>\n",
       "      <td>0</td>\n",
       "      <td>1009</td>\n",
       "      <td>3</td>\n",
       "      <td>3</td>\n",
       "    </tr>\n",
       "    <tr>\n",
       "      <th>8</th>\n",
       "      <td>2</td>\n",
       "      <td>1</td>\n",
       "      <td>3</td>\n",
       "      <td>4</td>\n",
       "      <td>1</td>\n",
       "      <td>1</td>\n",
       "      <td>1</td>\n",
       "      <td>3</td>\n",
       "      <td>953</td>\n",
       "      <td>5</td>\n",
       "    </tr>\n",
       "    <tr>\n",
       "      <th>9</th>\n",
       "      <td>0</td>\n",
       "      <td>2</td>\n",
       "      <td>0</td>\n",
       "      <td>4</td>\n",
       "      <td>5</td>\n",
       "      <td>5</td>\n",
       "      <td>1</td>\n",
       "      <td>3</td>\n",
       "      <td>2</td>\n",
       "      <td>987</td>\n",
       "    </tr>\n",
       "  </tbody>\n",
       "</table>\n",
       "</div>"
      ],
      "text/plain": [
       "col_0    0     1     2    3    4    5    6     7    8    9\n",
       "row_0                                                     \n",
       "0      969     1     0    1    1    0    3     1    3    1\n",
       "1        0  1125     4    0    0    1    2     1    2    0\n",
       "2        1     2  1013    2    2    0    2     3    6    1\n",
       "3        0     0     6  984    0    7    1     2    6    4\n",
       "4        0     0     4    0  946    0    5     2    0   25\n",
       "5        2     0     0    6    2  869    4     2    6    1\n",
       "6        2     3     1    1    3    3  941     0    4    0\n",
       "7        1     4     8    0    0    0    0  1009    3    3\n",
       "8        2     1     3    4    1    1    1     3  953    5\n",
       "9        0     2     0    4    5    5    1     3    2  987"
      ]
     },
     "execution_count": 68,
     "metadata": {},
     "output_type": "execute_result"
    }
   ],
   "source": [
    "predictions_test = model.predict(X_test)\n",
    "y_test_pred = predictions_test.argmax(axis=1)\n",
    "pd.crosstab(y_test,y_test_pred)"
   ]
  },
  {
   "cell_type": "code",
   "execution_count": 73,
   "id": "ffe45fc0-bf5c-4d51-8464-23327521176c",
   "metadata": {},
   "outputs": [
    {
     "ename": "ValueError",
     "evalue": "Please provide to Input a `shape` or a `tensor` or a `type_spec` argument. Note that `shape` does not include the batch dimension.",
     "output_type": "error",
     "traceback": [
      "\u001b[0;31m---------------------------------------------------------------------------\u001b[0m",
      "\u001b[0;31mValueError\u001b[0m                                Traceback (most recent call last)",
      "\u001b[0;32m/tmp/ipykernel_186/2594060777.py\u001b[0m in \u001b[0;36m<cell line: 12>\u001b[0;34m()\u001b[0m\n\u001b[1;32m     10\u001b[0m \u001b[0;34m\u001b[0m\u001b[0m\n\u001b[1;32m     11\u001b[0m \u001b[0mmodel\u001b[0m \u001b[0;34m=\u001b[0m \u001b[0mSequential\u001b[0m\u001b[0;34m(\u001b[0m\u001b[0;34m)\u001b[0m\u001b[0;34m\u001b[0m\u001b[0;34m\u001b[0m\u001b[0m\n\u001b[0;32m---> 12\u001b[0;31m \u001b[0mmodel\u001b[0m\u001b[0;34m.\u001b[0m\u001b[0madd\u001b[0m\u001b[0;34m(\u001b[0m\u001b[0mInput\u001b[0m\u001b[0;34m(\u001b[0m\u001b[0mShape\u001b[0m\u001b[0;34m=\u001b[0m\u001b[0;34m(\u001b[0m\u001b[0mX_train\u001b[0m\u001b[0;34m.\u001b[0m\u001b[0mshape\u001b[0m\u001b[0;34m[\u001b[0m\u001b[0;36m1\u001b[0m\u001b[0;34m]\u001b[0m\u001b[0;34m,\u001b[0m\u001b[0;34m)\u001b[0m\u001b[0;34m)\u001b[0m\u001b[0;34m)\u001b[0m\u001b[0;34m\u001b[0m\u001b[0;34m\u001b[0m\u001b[0m\n\u001b[0m\u001b[1;32m     13\u001b[0m \u001b[0mmodel\u001b[0m\u001b[0;34m.\u001b[0m\u001b[0madd\u001b[0m\u001b[0;34m(\u001b[0m\u001b[0mDense\u001b[0m\u001b[0;34m(\u001b[0m\u001b[0munits\u001b[0m\u001b[0;34m=\u001b[0m\u001b[0;36m12\u001b[0m\u001b[0;34m,\u001b[0m\u001b[0mactivation\u001b[0m\u001b[0;34m=\u001b[0m\u001b[0;34m'relu'\u001b[0m\u001b[0;34m)\u001b[0m\u001b[0;34m)\u001b[0m\u001b[0;34m\u001b[0m\u001b[0;34m\u001b[0m\u001b[0m\n\u001b[1;32m     14\u001b[0m \u001b[0mmodel\u001b[0m\u001b[0;34m.\u001b[0m\u001b[0madd\u001b[0m\u001b[0;34m(\u001b[0m\u001b[0mDense\u001b[0m\u001b[0;34m(\u001b[0m\u001b[0munits\u001b[0m\u001b[0;34m=\u001b[0m\u001b[0;36m15\u001b[0m\u001b[0;34m,\u001b[0m\u001b[0mactivation\u001b[0m\u001b[0;34m=\u001b[0m\u001b[0;34m'relu'\u001b[0m\u001b[0;34m)\u001b[0m\u001b[0;34m)\u001b[0m\u001b[0;34m\u001b[0m\u001b[0;34m\u001b[0m\u001b[0m\n",
      "\u001b[0;32m/usr/local/lib/python3.10/site-packages/keras/src/utils/traceback_utils.py\u001b[0m in \u001b[0;36merror_handler\u001b[0;34m(*args, **kwargs)\u001b[0m\n\u001b[1;32m     68\u001b[0m             \u001b[0;31m# To get the full stack trace, call:\u001b[0m\u001b[0;34m\u001b[0m\u001b[0;34m\u001b[0m\u001b[0m\n\u001b[1;32m     69\u001b[0m             \u001b[0;31m# `tf.debugging.disable_traceback_filtering()`\u001b[0m\u001b[0;34m\u001b[0m\u001b[0;34m\u001b[0m\u001b[0m\n\u001b[0;32m---> 70\u001b[0;31m             \u001b[0;32mraise\u001b[0m \u001b[0me\u001b[0m\u001b[0;34m.\u001b[0m\u001b[0mwith_traceback\u001b[0m\u001b[0;34m(\u001b[0m\u001b[0mfiltered_tb\u001b[0m\u001b[0;34m)\u001b[0m \u001b[0;32mfrom\u001b[0m \u001b[0;32mNone\u001b[0m\u001b[0;34m\u001b[0m\u001b[0;34m\u001b[0m\u001b[0m\n\u001b[0m\u001b[1;32m     71\u001b[0m         \u001b[0;32mfinally\u001b[0m\u001b[0;34m:\u001b[0m\u001b[0;34m\u001b[0m\u001b[0;34m\u001b[0m\u001b[0m\n\u001b[1;32m     72\u001b[0m             \u001b[0;32mdel\u001b[0m \u001b[0mfiltered_tb\u001b[0m\u001b[0;34m\u001b[0m\u001b[0;34m\u001b[0m\u001b[0m\n",
      "\u001b[0;32m/usr/local/lib/python3.10/site-packages/keras/src/engine/input_layer.py\u001b[0m in \u001b[0;36mInput\u001b[0;34m(shape, batch_size, name, dtype, sparse, tensor, ragged, type_spec, **kwargs)\u001b[0m\n\u001b[1;32m    432\u001b[0m         \u001b[0;32mand\u001b[0m \u001b[0mtype_spec\u001b[0m \u001b[0;32mis\u001b[0m \u001b[0;32mNone\u001b[0m\u001b[0;34m\u001b[0m\u001b[0;34m\u001b[0m\u001b[0m\n\u001b[1;32m    433\u001b[0m     ):\n\u001b[0;32m--> 434\u001b[0;31m         raise ValueError(\n\u001b[0m\u001b[1;32m    435\u001b[0m             \u001b[0;34m\"Please provide to Input a `shape` \"\u001b[0m\u001b[0;34m\u001b[0m\u001b[0;34m\u001b[0m\u001b[0m\n\u001b[1;32m    436\u001b[0m             \u001b[0;34m\"or a `tensor` or a `type_spec` argument. Note that \"\u001b[0m\u001b[0;34m\u001b[0m\u001b[0;34m\u001b[0m\u001b[0m\n",
      "\u001b[0;31mValueError\u001b[0m: Please provide to Input a `shape` or a `tensor` or a `type_spec` argument. Note that `shape` does not include the batch dimension."
     ]
    }
   ],
   "source": [
    "# if binary classification \n",
    "# define x and y\n",
    "# split into train and test\n",
    "# y has to be 0 or 1\n",
    "\n",
    "# in Binary we dont need to encode \n",
    "\n",
    "from tensorflow.keras.models import Sequential\n",
    "from tensorflow.keras.layers import Input, Dense\n",
    "\n",
    "model = Sequential()\n",
    "model.add(Input(Shape=(X_train.shape[1],)))\n",
    "model.add(Dense(units=12,activation='relu'))\n",
    "model.add(Dense(units=15,activation='relu'))\n",
    "model.add(Dense(units=1,activation='sigmoid'))\n",
    "model.compile(loss=\"binary_crossentropy\",optimizer=\"adma\",metrics=['accuracy'])\n",
    "\n",
    "# fit the model\n",
    "model.fit(X_train,y_train,epochs=20,batch_size=64,validation_data=(X_test,y_test),callbacks=[PlotLossesKerasTF()])"
   ]
  },
  {
   "cell_type": "code",
   "execution_count": null,
   "id": "4555aff5-dbab-4044-8a92-b80ebf849cf1",
   "metadata": {},
   "outputs": [],
   "source": [
    "# Home work on Titanic data"
   ]
  }
 ],
 "metadata": {
  "kernelspec": {
   "display_name": "Python 3 [3.10]",
   "language": "python",
   "name": "python3"
  },
  "language_info": {
   "codemirror_mode": {
    "name": "ipython",
    "version": 3
   },
   "file_extension": ".py",
   "mimetype": "text/x-python",
   "name": "python",
   "nbconvert_exporter": "python",
   "pygments_lexer": "ipython3",
   "version": "3.10.2"
  }
 },
 "nbformat": 4,
 "nbformat_minor": 5
}
